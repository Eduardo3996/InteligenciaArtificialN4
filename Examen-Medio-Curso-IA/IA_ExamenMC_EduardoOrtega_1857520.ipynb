{
  "nbformat": 4,
  "nbformat_minor": 0,
  "metadata": {
    "colab": {
      "name": "IA_ExamenMC_EduardoOrtega_1857520.ipynb",
      "provenance": []
    },
    "kernelspec": {
      "name": "python3",
      "display_name": "Python 3"
    },
    "language_info": {
      "name": "python"
    }
  },
  "cells": [
    {
      "cell_type": "code",
      "metadata": {
        "colab": {
          "base_uri": "https://localhost:8080/"
        },
        "id": "5TTmK-IJ8xhV",
        "outputId": "7e17c9ce-1948-4fb9-de67-7237db4bb7be"
      },
      "source": [
        "\"\"\"  Examen Medio Curso.- Eduardo Ortega Corpus 1857520 IB N4 \"\"\"\n",
        "numero= int(input(\"Ingrese un número: \"))\n",
        "suma=0\n",
        "i=1\n",
        "for i in range (1,numero+1):\n",
        "  suma=suma+i\n",
        "print(\"La suma desde 1 hasta el número seleccionado es:\",suma)"
      ],
      "execution_count": 15,
      "outputs": [
        {
          "output_type": "stream",
          "name": "stdout",
          "text": [
            "Ingrese un número: 10\n",
            "La suma desde 1 hasta el número seleccionado es: 55\n"
          ]
        }
      ]
    },
    {
      "cell_type": "code",
      "metadata": {
        "colab": {
          "base_uri": "https://localhost:8080/"
        },
        "id": "GC7slaFm-sxs",
        "outputId": "4d673c7f-e673-4567-ab4b-ef1c98504514"
      },
      "source": [
        "lista=list(range(6,32))\n",
        "for num in lista:\n",
        "  if num%2==0:\n",
        "    print(num) "
      ],
      "execution_count": 14,
      "outputs": [
        {
          "output_type": "stream",
          "name": "stdout",
          "text": [
            "6\n",
            "8\n",
            "10\n",
            "12\n",
            "14\n",
            "16\n",
            "18\n",
            "20\n",
            "22\n",
            "24\n",
            "26\n",
            "28\n",
            "30\n"
          ]
        }
      ]
    }
  ]
}