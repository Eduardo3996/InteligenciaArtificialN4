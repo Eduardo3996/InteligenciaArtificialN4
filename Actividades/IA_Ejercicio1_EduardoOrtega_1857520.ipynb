{
  "nbformat": 4,
  "nbformat_minor": 0,
  "metadata": {
    "colab": {
      "name": "Untitled0.ipynb",
      "provenance": []
    },
    "kernelspec": {
      "name": "python3",
      "display_name": "Python 3"
    },
    "language_info": {
      "name": "python"
    }
  },
  "cells": [
    {
      "cell_type": "code",
      "metadata": {
        "colab": {
          "base_uri": "https://localhost:8080/"
        },
        "id": "Uh0EBI76CPgE",
        "outputId": "71ee4b1e-21c1-4d50-deeb-aca38ee0b4d3"
      },
      "source": [
        "\"\"\" Actividad 2.- Ejercicios Introducción Python Eduardo Ortega Corpus 1857520 IB N4 \"\"\"\n",
        "nombre= input(\"Ingresa tu nombre: \")\n",
        "edad= input(\"Ingresa tu edad: \")\n",
        "frase= input(\"Escribe tu frase favorita: \")\n",
        "autor= input(\"Escribe el autor de esa frase: \")\n",
        "print(\"Tu nombre es \" +nombre+\", tienes \"+edad +\" años, tu frase favorita es \"+frase +\" del autor \"+autor)"
      ],
      "execution_count": 8,
      "outputs": [
        {
          "output_type": "stream",
          "name": "stdout",
          "text": [
            "Ingresa tu nombre: Eduardo \n",
            "Ingresa tu edad: 19\n",
            "Escribe tu frase favorita: hazlo con miedo \n",
            "Escribe el autor de esa frase: anonimo\n",
            "Tu nombre es Eduardo , tienes 19 años, tu frase favorita es hazlo con miedo  del autor anonimo\n"
          ]
        }
      ]
    }
  ]
}
