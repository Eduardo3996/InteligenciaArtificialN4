{
  "nbformat": 4,
  "nbformat_minor": 0,
  "metadata": {
    "colab": {
      "name": "IA_Ejercicio1_EduardoOrtega_1857520.ipynb",
      "provenance": []
    },
    "kernelspec": {
      "name": "python3",
      "display_name": "Python 3"
    },
    "language_info": {
      "name": "python"
    }
  },
  "cells": [
    {
      "cell_type": "code",
      "metadata": {
        "colab": {
          "base_uri": "https://localhost:8080/"
        },
        "id": "Uh0EBI76CPgE",
        "outputId": "db34552a-ece4-49bb-f1b0-fee162a93d70"
      },
      "source": [
        "\"\"\" Actividad 1.- Ejercicios Introducción Python Eduardo Ortega Corpus 1857520 IB N4 \"\"\"\n",
        "nombre= input(\"Ingresa tu nombre: \") #Se pide escribir el nombre\n",
        "edad= input(\"Ingresa tu edad: \") #Se pide escribir la edad\n",
        "frase= input(\"Escribe tu frase favorita: \") #Se ingresa una frase\n",
        "autor= input(\"Escribe el autor de esa frase: \") #Se ingresa el autor de la frase\n",
        "print(\"Tu nombre es \" +nombre+\", tienes \"+edad +\" años, tu frase favorita es \"+frase +\" del autor \"+autor)"
      ],
      "execution_count": 28,
      "outputs": [
        {
          "output_type": "stream",
          "name": "stdout",
          "text": [
            "Ingresa tu nombre: Eduardo \n",
            "Ingresa tu edad: 19\n",
            "Escribe tu frase favorita: hazlo, y si te da miedo, hazlo con miedo\n",
            "Escribe el autor de esa frase: Nerida Centeno\n",
            "Tu nombre es Eduardo , tienes 19 años, tu frase favorita es hazlo, y si te da miedo, hazlo con miedo del autor Nerida Centeno\n"
          ]
        }
      ]
    },
    {
      "cell_type": "code",
      "metadata": {
        "colab": {
          "base_uri": "https://localhost:8080/"
        },
        "id": "e6ODexf3Kpxw",
        "outputId": "1164d86f-0be9-4807-ce55-53cd1ceb5a51"
      },
      "source": [
        "a= int(input(\"Ingrese un número entero: \")) \n",
        "b= int(input(\"Ingrese otro número entero: \")) #Ingresamos dos números enteros en líneas distintas\n",
        "c= float(input(\"Ingrese un número con decimales: \")) \n",
        "d= float(input(\"Ingrese otro número con decimales: \")) \n",
        "suma1= a+b\n",
        "resta1= a-b\n",
        "mult1= a*b\n",
        "div1= a/b #Realizamos las operaciones suma, resta, multiplicación y división para los números enteros \n",
        "print(\"La suma de los números enteros es: \",suma1)\n",
        "print(\"La resta del primer número entero menos el segundo es: \",resta1)\n",
        "print(\"El producto de los números enteros es: \",mult1)\n",
        "print(\"La división del primer número entero entre el segundo es: \",div1) #Imprimimos los 4 resultados obtenidos\n",
        "suma2= c+d\n",
        "resta2= c-d\n",
        "mult2= c*d\n",
        "div2= c/d #Realizamos las operaciones suma, resta, multiplicación y división para los números flotantes \n",
        "print(\"La suma de los números flotantes es: \",suma2)\n",
        "print(\"La resta del primer número flotante menos el segundo es: \",resta2)\n",
        "print(\"El producto de los números flotantes es: \",mult2)\n",
        "print(\"La división del primer número flotante entre el segundo es: \",div2) #Imprimimos los 4 resultados obtenidos"
      ],
      "execution_count": 22,
      "outputs": [
        {
          "output_type": "stream",
          "name": "stdout",
          "text": [
            "Ingrese un número entero: 2\n",
            "Ingrese otro número entero: 6\n",
            "Ingrese un número con decimales: 2.1\n",
            "Ingrese otro número con decimales: 3.5\n",
            "La suma de los números enteros es:  8\n",
            "La resta del primer número entero menos el segundo es:  -4\n",
            "El producto de los números enteros es:  12\n",
            "La división del primer número entero entre el segundo es:  0.3333333333333333\n",
            "La suma de los números flotantes es:  5.6\n",
            "La resta del primer número flotante menos el segundo es:  -1.4\n",
            "El producto de los números flotantes es:  7.3500000000000005\n",
            "La división del primer número flotante entre el segundo es:  0.6\n"
          ]
        }
      ]
    },
    {
      "cell_type": "code",
      "metadata": {
        "colab": {
          "base_uri": "https://localhost:8080/"
        },
        "id": "3Akk2LMZSZsZ",
        "outputId": "ac6ceb83-de39-4674-b23f-3754073fa569"
      },
      "source": [
        " a=5\n",
        " b=10\n",
        " c=7\n",
        "\n",
        " and1=((a<b)and(a<c))\n",
        " and2=((c>a)and(c>b))\n",
        " or1=((a<b)or(a<c))\n",
        " or2=((c>a)or(c>b))\n",
        " not1= not((c>a)and(c>b))\n",
        " not2= not((c>a)or(c>b))\n",
        "\n",
        " print(and1)\n",
        " print(and2)\n",
        " print(or1)\n",
        " print(or2)\n",
        " print(not1)\n",
        " print(not2)\n",
        " "
      ],
      "execution_count": 27,
      "outputs": [
        {
          "output_type": "stream",
          "name": "stdout",
          "text": [
            "True\n",
            "False\n",
            "True\n",
            "True\n",
            "True\n",
            "False\n"
          ]
        }
      ]
    }
  ]
}