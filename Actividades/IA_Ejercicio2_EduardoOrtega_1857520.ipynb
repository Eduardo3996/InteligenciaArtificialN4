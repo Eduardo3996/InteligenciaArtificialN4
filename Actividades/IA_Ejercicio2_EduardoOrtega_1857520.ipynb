{
  "nbformat": 4,
  "nbformat_minor": 0,
  "metadata": {
    "colab": {
      "name": "IA_Ejercicio2_EduardoOrtega_1857520.ipynb",
      "provenance": []
    },
    "kernelspec": {
      "name": "python3",
      "display_name": "Python 3"
    },
    "language_info": {
      "name": "python"
    }
  },
  "cells": [
    {
      "cell_type": "code",
      "metadata": {
        "colab": {
          "base_uri": "https://localhost:8080/"
        },
        "id": "JCVMIFgu2zYC",
        "outputId": "bfd86ee4-4702-4113-952e-e3f53dcac2bc"
      },
      "source": [
        "\"\"\" Actividad 3.- Ejercicios Introducción Python, 2da Parte. Eduardo Ortega Corpus 1857520 IB N4 \"\"\"\n",
        "lista=[] #Se crea una lista vacia\n",
        "lista.append(input(\"Menciona 7 de tus comidas favoritas. Comida 1: \")) #Se agrega la primera comida en la priemra posición de la lista\n",
        "\n",
        "\n",
        "for i in range(6):\n",
        "  n=str(i+2)\n",
        "  lista.append(input(\"Comida \"+n+\":\")) #Se agregan el resto de comidas desde la posición 2 hasta la 7\n",
        "print (\"Tus comidas favoritas son\", lista) #Se imprime la lista completa \n",
        "print()\n",
        "\n",
        "#Ejercicio 1.2\n",
        "for i in range (7):\n",
        "  print(\"Una de mis comidas favoritas es: \", lista[i] ) #Se imprime cada elemento de la lista con la oración inicial \n",
        "    "
      ],
      "execution_count": 14,
      "outputs": [
        {
          "output_type": "stream",
          "name": "stdout",
          "text": [
            "Menciona 7 de tus comidas favoritas. Comida 1: boneless\n",
            "Comida 2:chilaquiles \n",
            "Comida 3:chilidogs\n",
            "Comida 4:uvas\n",
            "Comida 5:pizza\n",
            "Comida 6:lasagna \n",
            "Comida 7:espagueti\n",
            "Tus comidas favoritas son ['boneless', 'chilaquiles ', 'chilidogs', 'uvas', 'pizza', 'lasagna ', 'espagueti']\n",
            "\n",
            "Una de mis comidas favoritas es:  boneless\n",
            "Una de mis comidas favoritas es:  chilaquiles \n",
            "Una de mis comidas favoritas es:  chilidogs\n",
            "Una de mis comidas favoritas es:  uvas\n",
            "Una de mis comidas favoritas es:  pizza\n",
            "Una de mis comidas favoritas es:  lasagna \n",
            "Una de mis comidas favoritas es:  espagueti\n"
          ]
        }
      ]
    },
    {
      "cell_type": "code",
      "metadata": {
        "colab": {
          "base_uri": "https://localhost:8080/"
        },
        "id": "Cn-mwbnfObPH",
        "outputId": "9bb61421-1cc6-438c-b0bc-fcce991627e3"
      },
      "source": [
        "\n",
        "print(\"Lista de opciones\")\n",
        "print(\"1-Piedra\")\n",
        "print(\"2-Papel\")\n",
        "print(\"3-Tijera\") #Se le da una serie de opciones a los jugadores para que escojan de acuerdo a la numeración \n",
        "\n",
        "while True: #Se preguntará hasta que ambos jugadores escojan opciones validas (1,2,3)\n",
        "  j1=int(input(\"Jugador 1, escoja una opción: \"))\n",
        "  if j1==1 or j1==2 or j1==3:\n",
        "     break\n",
        "  else:\n",
        "     print (\"Opción inválida\")\n",
        "print()\n",
        "while True:\n",
        "  j2=int(input(\"Jugador 2, escoja una opción: \"))\n",
        "  if j2==1 or j2==2 or j2==3:\n",
        "     break\n",
        "  else:\n",
        "     print (\"Opción inválida\")\n",
        "print()\n",
        "if j1==j2:\n",
        "  print(\"Es un empate\") #Se comparan las opciones de los jugadores para determinar si hubo empate o quién ganó\n",
        "else:\n",
        "  if j1==1:\n",
        "     if j2==2:\n",
        "        print(\"Jugador 2 gana\")\n",
        "     else: \n",
        "        print(\"Jugador 1 gana\")\n",
        "  else: \n",
        "    if j1==2:\n",
        "        if j2==1:\n",
        "           print(\"Jugador 1 gana\")\n",
        "        else: \n",
        "           print(\"Jugador 2 gana\")\n",
        "    else: \n",
        "      if j2==1:\n",
        "        print(\"Jugador 2 gana\")\n",
        "      else: \n",
        "        print(\"Jugador 1 gana\")"
      ],
      "execution_count": 51,
      "outputs": [
        {
          "output_type": "stream",
          "name": "stdout",
          "text": [
            "Lista de opciones\n",
            "1-Piedra\n",
            "2-Papel\n",
            "3-Tijera\n",
            "Jugador 1, escoja una opción: 4\n",
            "Opción inválida\n",
            "Jugador 1, escoja una opción: 2\n",
            "\n",
            "Jugador 2, escoja una opción: 1\n",
            "\n",
            "Jugador 1 gana\n"
          ]
        }
      ]
    },
    {
      "cell_type": "code",
      "metadata": {
        "colab": {
          "base_uri": "https://localhost:8080/"
        },
        "id": "i7FzuKkPT6Mt",
        "outputId": "176c187c-9c3d-4e66-b62c-866dfa8fb2a9"
      },
      "source": [
        "lista=[1,2,3,4,5,6] #Se crea la lista completa de números\n",
        "for i in range(6): \n",
        "    print(*lista[:6-i]) #Se imprime la lista con un número menos al final hasta llegar a 1 \n",
        "for i in range(5):\n",
        "    print(*lista[:i+2]) #Se imprime la lista cada vez con un número más comenzando con los primeros dos números"
      ],
      "execution_count": 52,
      "outputs": [
        {
          "output_type": "stream",
          "name": "stdout",
          "text": [
            "1 2 3 4 5 6\n",
            "1 2 3 4 5\n",
            "1 2 3 4\n",
            "1 2 3\n",
            "1 2\n",
            "1\n",
            "1 2\n",
            "1 2 3\n",
            "1 2 3 4\n",
            "1 2 3 4 5\n",
            "1 2 3 4 5 6\n"
          ]
        }
      ]
    }
  ]
}